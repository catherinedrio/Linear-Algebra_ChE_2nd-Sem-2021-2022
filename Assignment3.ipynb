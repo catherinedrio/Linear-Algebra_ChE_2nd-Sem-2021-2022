{
  "nbformat": 4,
  "nbformat_minor": 0,
  "metadata": {
    "colab": {
      "name": "Assignment3.ipynb",
      "provenance": [],
      "collapsed_sections": [],
      "authorship_tag": "ABX9TyOXXVYZeXN0GzrYHwPk1Pks",
      "include_colab_link": true
    },
    "kernelspec": {
      "name": "python3",
      "display_name": "Python 3"
    },
    "language_info": {
      "name": "python"
    }
  },
  "cells": [
    {
      "cell_type": "markdown",
      "metadata": {
        "id": "view-in-github",
        "colab_type": "text"
      },
      "source": [
        "<a href=\"https://colab.research.google.com/github/catherinedrio/Linear-Algebra_ChE_2nd-Sem-2021-2022/blob/main/Assignment3.ipynb\" target=\"_parent\"><img src=\"https://colab.research.google.com/assets/colab-badge.svg\" alt=\"Open In Colab\"/></a>"
      ]
    },
    {
      "cell_type": "markdown",
      "source": [
        "# Linear Algebra for ChE\n",
        "## Assignment 3: Matrices"
      ],
      "metadata": {
        "id": "-xmiIWZKvqB9"
      }
    },
    {
      "cell_type": "markdown",
      "source": [
        "We'll try to explore in greater dimensions now that you have a basic understanding of Python."
      ],
      "metadata": {
        "id": "WTyrCsJIwBbJ"
      }
    },
    {
      "cell_type": "markdown",
      "source": [
        "### Objectives\n",
        "You will be able to:\n",
        "1. Be familiar with matrices and how they relate to linear equations.\n",
        "2. Basic matrix computations are performed.\n",
        "3. Matrix equations can be programmed and translated using Python."
      ],
      "metadata": {
        "id": "eDPO5jW1w_u3"
      }
    },
    {
      "cell_type": "markdown",
      "source": [
        "# Discussion"
      ],
      "metadata": {
        "id": "eXw9fTdoybMi"
      }
    },
    {
      "cell_type": "code",
      "source": [
        "import numpy as np\n",
        "## numpy - numerical python\n",
        "import matplotlib.pyplot as plt\n",
        "## matrix library\n",
        "import scipy.linalg as la\n",
        "%matplotlib inline"
      ],
      "metadata": {
        "id": "6yuaVmJiyk7e"
      },
      "execution_count": 13,
      "outputs": []
    },
    {
      "cell_type": "markdown",
      "source": [
        "### Matrices"
      ],
      "metadata": {
        "id": "l-qqmO930nfH"
      }
    },
    {
      "cell_type": "markdown",
      "source": [
        "One of the most fundamental aspects of modern computing is the notation and use of matrices. Matrices are also useful representations of complicated equations or many interconnected equations, ranging from two-dimensional to hundreds of thousands of them."
      ],
      "metadata": {
        "id": "wui2nshz0rE6"
      }
    },
    {
      "cell_type": "markdown",
      "source": [
        "Let's assume you have two variables, A and B, in your equation."
      ],
      "metadata": {
        "id": "TpTuXpU83JDU"
      }
    },
    {
      "cell_type": "markdown",
      "source": [
        "$$\n",
        "A = \\left\\{\n",
        "    \\begin{array}\\\n",
        "        x + y \\\\\n",
        "        4x - 10y\n",
        "    \\end{array}\n",
        "\\right. \\\\\n",
        "B = \\left\\{\n",
        "    \\begin{array}\\\n",
        "        x+y+z \\\\\n",
        "        3x -2y -z \\\\\n",
        "      -x + 4y +2z\n",
        "    \\end{array}\n",
        "\\right. \\\\\n",
        "C = \\left\\{\n",
        "    \\begin{array}\\\n",
        "        w-2x+3y-4z \\\\\n",
        "        3w- x -2y +z \\\\\n",
        "    \\end{array}\n",
        "\\right. $$"
      ],
      "metadata": {
        "id": "zDe_PyBY4i7Q"
      }
    },
    {
      "cell_type": "markdown",
      "source": [
        "As we can see, A is a system of two equations with two parameters. B, on the other hand, is a three-equation system with three parameters. They may be represented as matrices in the following way:"
      ],
      "metadata": {
        "id": "SgZTp8pJ5SrG"
      }
    },
    {
      "cell_type": "markdown",
      "source": [
        ":$$\n",
        "A=\\begin{bmatrix} 1 & 1 \\\\ 4 & {-10}\\end{bmatrix} \\\\\n",
        "B=\\begin{bmatrix} 1 & 1 & 1 \\\\ 3 & -2 & -1 \\\\ -1 & 4 & 2\\end\n",
        "{bmatrix}\\\\\n",
        "C=\\begin{bmatrix} 1 & -2 & 3 & -4 \\\\ 3 & -1 & -2 & 1 \\\\ 2 & -1\n",
        "& 3 & -2\\end{bmatrix}\n",
        "$$"
      ],
      "metadata": {
        "id": "k1oi0rYOpSUP"
      }
    },
    {
      "cell_type": "markdown",
      "source": [
        "Assume you've already covered the fundamental format, types, and operations of matrices. We'll go ahead and do them in Python here.\n"
      ],
      "metadata": {
        "id": "v5vaG6E2qB2W"
      }
    },
    {
      "cell_type": "markdown",
      "source": [
        "### Declaring Matrices"
      ],
      "metadata": {
        "id": "GRL1cSOBqTzL"
      }
    },
    {
      "cell_type": "markdown",
      "source": [
        "We'll express a system of linear equations as a matrix, much like we did in our previous laboratory exercise. The elements of a matrix are the things or numbers in matrices. Matrixes have a list/array-like structure in which these items are grouped and ordered in rows and columns. These elements are indexed according to their location in relation to their rows and columns, exactly like arrays. The equation below can be used to express this. A is a matrix whose elements are indicated by the symbol aij. The number of rows in the matrix is denoted by i whereas the number of columns is denoted by j.\n",
        "\n",
        "It's worth noting that a matrix's size is i x j.\n",
        "\n",
        "\n",
        "\n"
      ],
      "metadata": {
        "id": "P0rL1z3zsSlF"
      }
    },
    {
      "cell_type": "markdown",
      "source": [
        "$$A=\\begin{bmatrix}\n",
        "a_{(0,0)}&a_{(0,1)}&\\dots&a_{0,j-1)}\\\\\n",
        "a_{(1,0)}&a_{(1,1)}&\\dots&a_{1,j-1)}\\\\\n",
        "\\vdots&\\vdots&ddot&\\vdots&\\\\\n",
        "a_{(i-1,0)}&a_{(i-1,1)}&\\dots&a_{(i-1,j-1)}\n",
        "\\end{bmatrix}\n",
        "$$"
      ],
      "metadata": {
        "id": "CbOYmbP8sevH"
      }
    },
    {
      "cell_type": "markdown",
      "source": [
        "We've previously gone over some of the different types of matrices as vectors, but in this lab assignment, we'll go over them again. Because you already know how to create vectors using form, dimensions, and size attributes, we'll use these features to study these matrices."
      ],
      "metadata": {
        "id": "MPaY_sUTCVRy"
      }
    },
    {
      "cell_type": "code",
      "source": [
        "## Since we'll keep on describing matrices. Let's make a function.\n",
        "def describe_mat(matrix):\n",
        "    print(f'Matrix:\\n{matrix}\\n\\nShape:\\t{matrix.shape}\\nRank:\\t{matrix.ndim}\\n')"
      ],
      "metadata": {
        "id": "vUpc5jNwF06d"
      },
      "execution_count": null,
      "outputs": []
    },
    {
      "cell_type": "code",
      "source": [
        "## Declaring a 2 x 2 matrix\n",
        "A = np.array([\n",
        "    [1, 2],\n",
        "    [3, 1]\n",
        "])\n",
        "describe_mat(A)"
      ],
      "metadata": {
        "colab": {
          "base_uri": "https://localhost:8080/"
        },
        "id": "161cPAnJHNvY",
        "outputId": "ffee58ad-f3eb-43c6-89c7-09340c0201c3"
      },
      "execution_count": null,
      "outputs": [
        {
          "output_type": "stream",
          "name": "stdout",
          "text": [
            "Matrix:\n",
            "[[1 2]\n",
            " [3 1]]\n",
            "\n",
            "Shape:\t(2, 2)\n",
            "Rank:\t2\n",
            "\n"
          ]
        }
      ]
    },
    {
      "cell_type": "code",
      "source": [
        "G = np.array([\n",
        "    [1,1],\n",
        "    [2,2]\n",
        "])\n",
        "describe_mat(G)"
      ],
      "metadata": {
        "colab": {
          "base_uri": "https://localhost:8080/"
        },
        "id": "pIvpEAJHICM_",
        "outputId": "84946447-1fb4-4875-92ff-dd6aba2a6a51"
      },
      "execution_count": null,
      "outputs": [
        {
          "output_type": "stream",
          "name": "stdout",
          "text": [
            "Matrix:\n",
            "[[1 1]\n",
            " [2 2]]\n",
            "\n",
            "Shape:\t(2, 2)\n",
            "Rank:\t2\n",
            "\n"
          ]
        }
      ]
    },
    {
      "cell_type": "code",
      "source": [
        "## Declaring a 3 x 2 matrix\n",
        "B = np.array([\n",
        "    [8, 2],\n",
        "    [5, 4],\n",
        "    [1, 1]\n",
        "])\n",
        "describe_mat(B)"
      ],
      "metadata": {
        "colab": {
          "base_uri": "https://localhost:8080/"
        },
        "id": "mJRxUNSOIoN9",
        "outputId": "d3f52f93-40f5-4848-af94-44ac2760891a"
      },
      "execution_count": null,
      "outputs": [
        {
          "output_type": "stream",
          "name": "stdout",
          "text": [
            "Matrix:\n",
            "[[8 2]\n",
            " [5 4]\n",
            " [1 1]]\n",
            "\n",
            "Shape:\t(3, 2)\n",
            "Rank:\t2\n",
            "\n"
          ]
        }
      ]
    },
    {
      "cell_type": "code",
      "source": [
        "H = np.array([1,2,3,4,5])\n",
        "describe_mat(H)"
      ],
      "metadata": {
        "colab": {
          "base_uri": "https://localhost:8080/"
        },
        "id": "Wh1L0_8DIofg",
        "outputId": "94e57415-2f82-4f77-cc1e-f0cf1d411358"
      },
      "execution_count": null,
      "outputs": [
        {
          "output_type": "stream",
          "name": "stdout",
          "text": [
            "Matrix:\n",
            "[1 2 3 4 5]\n",
            "\n",
            "Shape:\t(5,)\n",
            "Rank:\t1\n",
            "\n"
          ]
        }
      ]
    },
    {
      "cell_type": "markdown",
      "source": [
        "# Categorizing Matrices"
      ],
      "metadata": {
        "id": "ti2k8RFqI5sJ"
      }
    },
    {
      "cell_type": "markdown",
      "source": [
        "Matrixes can be classified in a variety of ways. One may be based on their form, while the other could be based on their element values. We'll do our best to get through them."
      ],
      "metadata": {
        "id": "GRlY6z2JI7xT"
      }
    },
    {
      "cell_type": "markdown",
      "source": [
        "## According to shape"
      ],
      "metadata": {
        "id": "qp4hZnY2JOze"
      }
    },
    {
      "cell_type": "markdown",
      "source": [
        "### Row and Column Matrices"
      ],
      "metadata": {
        "id": "Qy73COtcJa22"
      }
    },
    {
      "cell_type": "markdown",
      "source": [
        "In vector and matrix calculations, row and column matrices are frequent. They can also be used to represent the rows and columns of a larger vector space. A single column or row is used to depict row and column matrices. As a result, the form of row matrices is 1 x j, whereas the shape of column matrices is i x 1."
      ],
      "metadata": {
        "id": "njE_VgTSJh_a"
      }
    },
    {
      "cell_type": "code",
      "source": [
        "## Declaring a Row Matrix\n",
        "\n",
        "row_mat_1D = np.array([\n",
        "    1, 3, 2\n",
        "]) ## this is a 1-D Matrix with a shape of (3,), it's not really considered as a row matrix.\n",
        "row_mat_2D = np.array([\n",
        "    [1,2,3]\n",
        "]) ## this is a 2-D Matrix with a shape of (1,3)\n",
        "describe_mat(row_mat_1D)\n",
        "describe_mat(row_mat_2D)"
      ],
      "metadata": {
        "colab": {
          "base_uri": "https://localhost:8080/"
        },
        "id": "IS2dTfgRKRE8",
        "outputId": "375ad28e-1cc1-44b6-98e9-b03f742add0e"
      },
      "execution_count": null,
      "outputs": [
        {
          "output_type": "stream",
          "name": "stdout",
          "text": [
            "Matrix:\n",
            "[1 3 2]\n",
            "\n",
            "Shape:\t(3,)\n",
            "Rank:\t1\n",
            "\n",
            "Matrix:\n",
            "[[1 2 3]]\n",
            "\n",
            "Shape:\t(1, 3)\n",
            "Rank:\t2\n",
            "\n"
          ]
        }
      ]
    },
    {
      "cell_type": "code",
      "source": [
        "## Declaring a Column Matrix\n",
        "\n",
        "col_mat = np.array([\n",
        "    [1],\n",
        "    [2],\n",
        "    [5]\n",
        "]) ## this is a 2-D Matrix with a shape of (3,1)\n",
        "describe_mat(col_mat)"
      ],
      "metadata": {
        "colab": {
          "base_uri": "https://localhost:8080/"
        },
        "id": "i6c-IbyUKeRF",
        "outputId": "9a852011-22d8-410c-e23a-352f526c9a8e"
      },
      "execution_count": null,
      "outputs": [
        {
          "output_type": "stream",
          "name": "stdout",
          "text": [
            "Matrix:\n",
            "[[1]\n",
            " [2]\n",
            " [5]]\n",
            "\n",
            "Shape:\t(3, 1)\n",
            "Rank:\t2\n",
            "\n"
          ]
        }
      ]
    },
    {
      "cell_type": "markdown",
      "source": [
        "### Square Matrices"
      ],
      "metadata": {
        "id": "8uyv4tM_LKqk"
      }
    },
    {
      "cell_type": "markdown",
      "source": [
        "Matrixes with the same row and column sizes are known as square matrices. If we can claim that a matrix is square, in order to find square matrices, we may change our matrix descriptor function."
      ],
      "metadata": {
        "id": "VSP7ZuF2LSbs"
      }
    },
    {
      "cell_type": "code",
      "source": [
        "def describe_mat(matrix):\n",
        "    is_square = True if matrix.shape[0] == matrix.shape[1] else False \n",
        "    print(f'Matrix:\\n{matrix}\\n\\nShape:\\t{matrix.shape}\\nRank:\\t{matrix.ndim}\\nIs Square: {is_square}\\n')"
      ],
      "metadata": {
        "id": "Yis1nfM6LuGf"
      },
      "execution_count": null,
      "outputs": []
    },
    {
      "cell_type": "code",
      "source": [
        "square_mat = np.array([\n",
        "    [1,2,5],\n",
        "    [3,3,8],\n",
        "    [6,1,2]\n",
        "])\n",
        "\n",
        "non_square_mat = np.array([\n",
        "    [1,2,5],\n",
        "    [3,3,8]\n",
        "])\n",
        "describe_mat(square_mat)\n",
        "describe_mat(non_square_mat)"
      ],
      "metadata": {
        "colab": {
          "base_uri": "https://localhost:8080/"
        },
        "id": "5ohA3U_-Lw7k",
        "outputId": "6167cc68-a7d9-44b8-8608-2ec46bc2d795"
      },
      "execution_count": null,
      "outputs": [
        {
          "output_type": "stream",
          "name": "stdout",
          "text": [
            "Matrix:\n",
            "[[1 2 5]\n",
            " [3 3 8]\n",
            " [6 1 2]]\n",
            "\n",
            "Shape:\t(3, 3)\n",
            "Rank:\t2\n",
            "Is Square: True\n",
            "\n",
            "Matrix:\n",
            "[[1 2 5]\n",
            " [3 3 8]]\n",
            "\n",
            "Shape:\t(2, 3)\n",
            "Rank:\t2\n",
            "Is Square: False\n",
            "\n"
          ]
        }
      ]
    },
    {
      "cell_type": "markdown",
      "source": [
        "# According to element values"
      ],
      "metadata": {
        "id": "xp24iWxQMAbf"
      }
    },
    {
      "cell_type": "markdown",
      "source": [
        "### Null Matrix\n"
      ],
      "metadata": {
        "id": "bnCi2K-DMD5v"
      }
    },
    {
      "cell_type": "markdown",
      "source": [
        "A Null Matrix is a matrix that has no elements. It is always a subspace of any vector or matrix"
      ],
      "metadata": {
        "id": "GyqTM6a6MUt6"
      }
    },
    {
      "cell_type": "code",
      "source": [
        "def describe_mat(matrix):\n",
        "    if matrix.size > 0:\n",
        "        is_square = True if matrix.shape[0] == matrix.shape[1] else False \n",
        "        print(f'Matrix:\\n{matrix}\\n\\nShape:\\t{matrix.shape}\\nRank:\\t{matrix.ndim}\\nIs Square: {is_square}\\n')\n",
        "    else:\n",
        "        print('Matrix is Null')"
      ],
      "metadata": {
        "id": "wdCzlgTcMZyE"
      },
      "execution_count": null,
      "outputs": []
    },
    {
      "cell_type": "code",
      "source": [
        "null_mat = np.array([])\n",
        "describe_mat(null_mat)"
      ],
      "metadata": {
        "colab": {
          "base_uri": "https://localhost:8080/"
        },
        "id": "BTqmWjNXMlbV",
        "outputId": "05666c5c-f846-452d-a3ce-e9540f8696ef"
      },
      "execution_count": null,
      "outputs": [
        {
          "output_type": "stream",
          "name": "stdout",
          "text": [
            "Matrix is Null\n"
          ]
        }
      ]
    },
    {
      "cell_type": "markdown",
      "source": [
        "### Zero Matrix"
      ],
      "metadata": {
        "id": "4yfUvQr4Mpjy"
      }
    },
    {
      "cell_type": "markdown",
      "source": [
        "A zero matrix can be any rectangular matrix but with all elements having a value of 0."
      ],
      "metadata": {
        "id": "_j3kRFfnMv2r"
      }
    },
    {
      "cell_type": "code",
      "source": [
        "zero_mat_row = np.zeros((1,2))\n",
        "zero_mat_sqr = np.zeros((2,2))\n",
        "zero_mat_rct = np.zeros((3,2))\n",
        "\n",
        "print(f'Zero Row Matrix: \\n{zero_mat_row}')\n",
        "print(f'Zero Square Matrix: \\n{zero_mat_sqr}')\n",
        "print(f'Zero Rectangular Matrix: \\n{zero_mat_rct}')"
      ],
      "metadata": {
        "colab": {
          "base_uri": "https://localhost:8080/"
        },
        "id": "SoxlGbgAMyxh",
        "outputId": "abe94be0-9b46-4475-940e-663c29f83378"
      },
      "execution_count": null,
      "outputs": [
        {
          "output_type": "stream",
          "name": "stdout",
          "text": [
            "Zero Row Matrix: \n",
            "[[0. 0.]]\n",
            "Zero Square Matrix: \n",
            "[[0. 0.]\n",
            " [0. 0.]]\n",
            "Zero Rectangular Matrix: \n",
            "[[0. 0.]\n",
            " [0. 0.]\n",
            " [0. 0.]]\n"
          ]
        }
      ]
    },
    {
      "cell_type": "markdown",
      "source": [
        "### Ones Matrix"
      ],
      "metadata": {
        "id": "GnC5XOSJPLBy"
      }
    },
    {
      "cell_type": "markdown",
      "source": [
        "A ones matrix, just like the zero matrix, can be any rectangular matrix but all of its elements are 1s instead of 0s.\n"
      ],
      "metadata": {
        "id": "68GGtzKUPQVy"
      }
    },
    {
      "cell_type": "code",
      "source": [
        "ones_mat_row = np.ones((1,2))\n",
        "ones_mat_sqr = np.ones((2,2))\n",
        "ones_mat_rct = np.ones((3,2))\n",
        "\n",
        "print(f'Ones Row Matrix: \\n{ones_mat_row}')\n",
        "print(f'Ones Square Matrix: \\n{ones_mat_sqr}')\n",
        "print(f'Ones Rectangular Matrix: \\n{ones_mat_rct}')"
      ],
      "metadata": {
        "colab": {
          "base_uri": "https://localhost:8080/"
        },
        "id": "8hjE_mGqPYbj",
        "outputId": "f4fef1c9-7a8f-4c5c-e4b8-7d48543102a3"
      },
      "execution_count": null,
      "outputs": [
        {
          "output_type": "stream",
          "name": "stdout",
          "text": [
            "Ones Row Matrix: \n",
            "[[1. 1.]]\n",
            "Ones Square Matrix: \n",
            "[[1. 1.]\n",
            " [1. 1.]]\n",
            "Ones Rectangular Matrix: \n",
            "[[1. 1.]\n",
            " [1. 1.]\n",
            " [1. 1.]]\n"
          ]
        }
      ]
    },
    {
      "cell_type": "markdown",
      "source": [
        "### Diagonal Matrix"
      ],
      "metadata": {
        "id": "WvdkyDEkPfFP"
      }
    },
    {
      "cell_type": "markdown",
      "source": [
        "A diagonal matrix is a square matrix that has values only at the diagonal of the matrix.\n",
        "\n"
      ],
      "metadata": {
        "id": "uRYAFiVuPhE8"
      }
    },
    {
      "cell_type": "code",
      "source": [
        "## Diagonal Matrix\n",
        "np.array([\n",
        "    [2,0,0],\n",
        "    [0,3,0],\n",
        "    [0,0,5]\n",
        "])\n",
        "# a[1,1], a[2,2], a[3,3], ... a[n-1,n-1]"
      ],
      "metadata": {
        "colab": {
          "base_uri": "https://localhost:8080/"
        },
        "id": "eXqfT5sBPuI3",
        "outputId": "6fee4c51-24ae-4437-8e99-a8f9acfb5508"
      },
      "execution_count": 3,
      "outputs": [
        {
          "output_type": "execute_result",
          "data": {
            "text/plain": [
              "array([[2, 0, 0],\n",
              "       [0, 3, 0],\n",
              "       [0, 0, 5]])"
            ]
          },
          "metadata": {},
          "execution_count": 3
        }
      ]
    },
    {
      "cell_type": "code",
      "source": [
        "d = np.diag([2,3,5,7])\n",
        "np.diag(d).shape == d.shape[0] == d.shape[1]"
      ],
      "metadata": {
        "colab": {
          "base_uri": "https://localhost:8080/"
        },
        "id": "Fxhyq_5fPw64",
        "outputId": "dd879cdf-f9a5-44f5-8321-ea1254b650c1"
      },
      "execution_count": null,
      "outputs": [
        {
          "output_type": "execute_result",
          "data": {
            "text/plain": [
              "False"
            ]
          },
          "metadata": {},
          "execution_count": 42
        }
      ]
    },
    {
      "cell_type": "markdown",
      "source": [
        "### Identity Matrix"
      ],
      "metadata": {
        "id": "7meLJqnZP25g"
      }
    },
    {
      "cell_type": "markdown",
      "source": [
        "An identity matrix is a special diagonal matrix in which the values at the diagonal are ones."
      ],
      "metadata": {
        "id": "T-mk60bqP501"
      }
    },
    {
      "cell_type": "code",
      "source": [
        "np.eye(5)"
      ],
      "metadata": {
        "colab": {
          "base_uri": "https://localhost:8080/"
        },
        "id": "R5NtPJkOP96R",
        "outputId": "6ec35f41-0ccf-4ac6-ca0d-4a6d1ee8dd43"
      },
      "execution_count": null,
      "outputs": [
        {
          "output_type": "execute_result",
          "data": {
            "text/plain": [
              "array([[1., 0., 0., 0., 0.],\n",
              "       [0., 1., 0., 0., 0.],\n",
              "       [0., 0., 1., 0., 0.],\n",
              "       [0., 0., 0., 1., 0.],\n",
              "       [0., 0., 0., 0., 1.]])"
            ]
          },
          "metadata": {},
          "execution_count": 43
        }
      ]
    },
    {
      "cell_type": "code",
      "source": [
        "np.identity(5)"
      ],
      "metadata": {
        "colab": {
          "base_uri": "https://localhost:8080/"
        },
        "id": "DJlaO_rxQANu",
        "outputId": "a05d9201-946f-4474-8d8b-b1dc135f5e44"
      },
      "execution_count": null,
      "outputs": [
        {
          "output_type": "execute_result",
          "data": {
            "text/plain": [
              "array([[1., 0., 0., 0., 0.],\n",
              "       [0., 1., 0., 0., 0.],\n",
              "       [0., 0., 1., 0., 0.],\n",
              "       [0., 0., 0., 1., 0.],\n",
              "       [0., 0., 0., 0., 1.]])"
            ]
          },
          "metadata": {},
          "execution_count": 44
        }
      ]
    },
    {
      "cell_type": "markdown",
      "source": [
        "### Upper Triangular Matrix\n"
      ],
      "metadata": {
        "id": "_a5vJIPMQDoF"
      }
    },
    {
      "cell_type": "markdown",
      "source": [
        "An upper triangular matrix is a matrix that has no values below the diagonal"
      ],
      "metadata": {
        "id": "te3rc1afQK2D"
      }
    },
    {
      "cell_type": "code",
      "source": [
        "np.array([\n",
        "    [1,2,3],\n",
        "    [0,3,1],\n",
        "    [0,0,5]\n",
        "])"
      ],
      "metadata": {
        "colab": {
          "base_uri": "https://localhost:8080/"
        },
        "id": "cAyy6hf-QN2M",
        "outputId": "e4d0f160-a2f8-4a75-e1af-73582d987cfb"
      },
      "execution_count": null,
      "outputs": [
        {
          "output_type": "execute_result",
          "data": {
            "text/plain": [
              "array([[1, 2, 3],\n",
              "       [0, 3, 1],\n",
              "       [0, 0, 5]])"
            ]
          },
          "metadata": {},
          "execution_count": 45
        }
      ]
    },
    {
      "cell_type": "markdown",
      "source": [
        "### Lower Triangular Matrix"
      ],
      "metadata": {
        "id": "OwQMX4UCQTkx"
      }
    },
    {
      "cell_type": "markdown",
      "source": [
        "A lower triangular matrix is a matrix that has no values above the diagonal."
      ],
      "metadata": {
        "id": "Dh4ZOZcdQXpf"
      }
    },
    {
      "cell_type": "code",
      "source": [
        "np.array([\n",
        "    [1,0,0],\n",
        "    [5,3,0],\n",
        "    [7,8,5]\n",
        "])"
      ],
      "metadata": {
        "colab": {
          "base_uri": "https://localhost:8080/"
        },
        "id": "k8kTqYN8Qfkn",
        "outputId": "b3fb0b43-ad2d-4434-e55b-3536488c8dde"
      },
      "execution_count": null,
      "outputs": [
        {
          "output_type": "execute_result",
          "data": {
            "text/plain": [
              "array([[1, 0, 0],\n",
              "       [5, 3, 0],\n",
              "       [7, 8, 5]])"
            ]
          },
          "metadata": {},
          "execution_count": 46
        }
      ]
    },
    {
      "cell_type": "markdown",
      "source": [
        "# Practice"
      ],
      "metadata": {
        "id": "OHy0krsTQlYH"
      }
    },
    {
      "cell_type": "markdown",
      "source": [
        "  1. Given the linear combination below, try to create a corresponding matrix representing it"
      ],
      "metadata": {
        "id": "hiw6LFWSQo9M"
      }
    },
    {
      "cell_type": "markdown",
      "source": [
        ":$$\\theta = 5x + 3y = :$$"
      ],
      "metadata": {
        "id": "fd5nrIMLQ0jf"
      }
    },
    {
      "cell_type": "markdown",
      "source": [
        "  2. Given the system of linear combinations below, try to encode it as a matrix. Also describe the matrix"
      ],
      "metadata": {
        "id": "zY5Sj7ICURPa"
      }
    },
    {
      "cell_type": "markdown",
      "source": [
        "$$\n",
        "A = \\left\\{\\begin{array}\n",
        "5x_1 + 2x_2 +x_3\\\\\n",
        "4x_2 - x_3\\\\\n",
        "10x_3\n",
        "\\end{array}\\right.\n",
        "$$\n"
      ],
      "metadata": {
        "id": "yki8PQLFUe8R"
      }
    },
    {
      "cell_type": "markdown",
      "source": [
        "Given the matrix below, express it as a linear combination in a markdown."
      ],
      "metadata": {
        "id": "ox67IPS6VFcv"
      }
    },
    {
      "cell_type": "code",
      "source": [
        "G = np.array([\n",
        "    [1,7,8],\n",
        "    [2,2,2],\n",
        "    [4,6,7]\n",
        "])"
      ],
      "metadata": {
        "id": "1aHAm9WMVKUD"
      },
      "execution_count": null,
      "outputs": []
    },
    {
      "cell_type": "markdown",
      "source": [
        "Given the matrix below, display the output as a LaTeX makdown also express it as a system of linear combinations"
      ],
      "metadata": {
        "id": "78M_Q-e2VPZb"
      }
    },
    {
      "cell_type": "code",
      "source": [
        "H = np.tril(G)\n",
        "H"
      ],
      "metadata": {
        "colab": {
          "base_uri": "https://localhost:8080/"
        },
        "id": "zLBQDW8BVWWU",
        "outputId": "ea74d21e-77be-4157-c3f1-1a462b4442da"
      },
      "execution_count": null,
      "outputs": [
        {
          "output_type": "execute_result",
          "data": {
            "text/plain": [
              "array([[1, 0, 0],\n",
              "       [2, 2, 0],\n",
              "       [4, 6, 7]])"
            ]
          },
          "metadata": {},
          "execution_count": 48
        }
      ]
    },
    {
      "cell_type": "markdown",
      "source": [
        "# Matrix Algebra"
      ],
      "metadata": {
        "id": "7RJIN36TVasn"
      }
    },
    {
      "cell_type": "markdown",
      "source": [
        "## Addition"
      ],
      "metadata": {
        "id": "Ok47VOkJVe_C"
      }
    },
    {
      "cell_type": "code",
      "source": [
        "A = np.array([\n",
        "    [1,2],\n",
        "    [2,3],\n",
        "    [4,1]\n",
        "])\n",
        "B = np.array([\n",
        "    [2,2],\n",
        "    [0,0],\n",
        "    [1,1]\n",
        "])\n",
        "A+B"
      ],
      "metadata": {
        "colab": {
          "base_uri": "https://localhost:8080/"
        },
        "id": "ifN2EmaGVjJ_",
        "outputId": "cfa79bb4-39e2-442f-fc17-e527ea7de96f"
      },
      "execution_count": 14,
      "outputs": [
        {
          "output_type": "execute_result",
          "data": {
            "text/plain": [
              "array([[3, 4],\n",
              "       [2, 3],\n",
              "       [5, 2]])"
            ]
          },
          "metadata": {},
          "execution_count": 14
        }
      ]
    },
    {
      "cell_type": "code",
      "source": [
        "2+A ##Broadcasting\n",
        "# 2*np.ones(A.shape)+A"
      ],
      "metadata": {
        "colab": {
          "base_uri": "https://localhost:8080/"
        },
        "id": "yO4WaPWiVmWh",
        "outputId": "d385f1a7-c4d3-4101-f907-7739050aee11"
      },
      "execution_count": 15,
      "outputs": [
        {
          "output_type": "execute_result",
          "data": {
            "text/plain": [
              "array([[3, 4],\n",
              "       [4, 5],\n",
              "       [6, 3]])"
            ]
          },
          "metadata": {},
          "execution_count": 15
        }
      ]
    },
    {
      "cell_type": "markdown",
      "source": [
        "## Subtraction"
      ],
      "metadata": {
        "id": "VbRu7NYrVzLA"
      }
    },
    {
      "cell_type": "code",
      "source": [
        "A-B"
      ],
      "metadata": {
        "colab": {
          "base_uri": "https://localhost:8080/"
        },
        "id": "oTV1V7j6V31d",
        "outputId": "aae640ef-be4d-4176-9eab-e73930ff12d0"
      },
      "execution_count": 16,
      "outputs": [
        {
          "output_type": "execute_result",
          "data": {
            "text/plain": [
              "array([[-1,  0],\n",
              "       [ 2,  3],\n",
              "       [ 3,  0]])"
            ]
          },
          "metadata": {},
          "execution_count": 16
        }
      ]
    },
    {
      "cell_type": "code",
      "source": [
        "3-B == 3*np.ones(B.shape)-B"
      ],
      "metadata": {
        "colab": {
          "base_uri": "https://localhost:8080/"
        },
        "id": "kgvJ-8JDV5Xv",
        "outputId": "d28f62fb-19d6-47de-cf3d-d4d9146df8a9"
      },
      "execution_count": 17,
      "outputs": [
        {
          "output_type": "execute_result",
          "data": {
            "text/plain": [
              "array([[ True,  True],\n",
              "       [ True,  True],\n",
              "       [ True,  True]])"
            ]
          },
          "metadata": {},
          "execution_count": 17
        }
      ]
    },
    {
      "cell_type": "markdown",
      "source": [
        "## Element-wise Multiplication"
      ],
      "metadata": {
        "id": "mf2n-rH3WJvx"
      }
    },
    {
      "cell_type": "code",
      "source": [
        "A*B\n",
        "np.multiply(A,B)"
      ],
      "metadata": {
        "colab": {
          "base_uri": "https://localhost:8080/"
        },
        "id": "R6dfUsBNWMbQ",
        "outputId": "94a2cb22-a48d-4ca8-bb6d-fe1d83a54639"
      },
      "execution_count": 18,
      "outputs": [
        {
          "output_type": "execute_result",
          "data": {
            "text/plain": [
              "array([[2, 4],\n",
              "       [0, 0],\n",
              "       [4, 1]])"
            ]
          },
          "metadata": {},
          "execution_count": 18
        }
      ]
    },
    {
      "cell_type": "code",
      "source": [
        "2*A"
      ],
      "metadata": {
        "colab": {
          "base_uri": "https://localhost:8080/"
        },
        "id": "bSb-DkgqWO-Z",
        "outputId": "5e2cf071-1766-47aa-b3c9-4c2ac6936121"
      },
      "execution_count": 19,
      "outputs": [
        {
          "output_type": "execute_result",
          "data": {
            "text/plain": [
              "array([[2, 4],\n",
              "       [4, 6],\n",
              "       [8, 2]])"
            ]
          },
          "metadata": {},
          "execution_count": 19
        }
      ]
    },
    {
      "cell_type": "code",
      "source": [
        "alpha=10**-10\n",
        "A/(alpha+B)"
      ],
      "metadata": {
        "colab": {
          "base_uri": "https://localhost:8080/"
        },
        "id": "scZWz-EMWYHp",
        "outputId": "ff81df0d-bf2f-4bf9-a02b-0cfdd30c0f5a"
      },
      "execution_count": 21,
      "outputs": [
        {
          "output_type": "execute_result",
          "data": {
            "text/plain": [
              "array([[5.e-01, 1.e+00],\n",
              "       [2.e+10, 3.e+10],\n",
              "       [4.e+00, 1.e+00]])"
            ]
          },
          "metadata": {},
          "execution_count": 21
        }
      ]
    },
    {
      "cell_type": "code",
      "source": [
        "np.add(A,B)"
      ],
      "metadata": {
        "colab": {
          "base_uri": "https://localhost:8080/"
        },
        "id": "GEfVztH0WbOU",
        "outputId": "ac964243-7d09-4e0f-ca99-b16b1b65abd3"
      },
      "execution_count": 22,
      "outputs": [
        {
          "output_type": "execute_result",
          "data": {
            "text/plain": [
              "array([[3, 4],\n",
              "       [2, 3],\n",
              "       [5, 2]])"
            ]
          },
          "metadata": {},
          "execution_count": 22
        }
      ]
    },
    {
      "cell_type": "markdown",
      "source": [
        "# Activity"
      ],
      "metadata": {
        "id": "oYdP8YieV1bH"
      }
    },
    {
      "cell_type": "markdown",
      "source": [
        "## Task 1"
      ],
      "metadata": {
        "id": "qKRzjDEiWsEE"
      }
    },
    {
      "cell_type": "markdown",
      "source": [
        "Create a function named mat_desc() that througouhly describes a matrix, it should"
      ],
      "metadata": {
        "id": "HazIxoitWwuR"
      }
    },
    {
      "cell_type": "markdown",
      "source": [
        "  1. Displays the shape, size, and rank of the matrix.\n",
        "  2. Displays whether the matrix is square or non-square.\n",
        "  3. Displays whether the matrix is an empty matrix.\n",
        "  4. Displays if the matrix is an identity, ones, or zeros matrix\n",
        "\n",
        "\n",
        "Use 5 sample matrices in which their shapes are not lower than (3,3) . In your methodology, create a flowchart discuss the functions and methods you have done. Present your results in the results section showing the description of each matrix you have declared."
      ],
      "metadata": {
        "id": "CixBbcXlWz5a"
      }
    },
    {
      "cell_type": "code",
      "source": [
        "## Function area\n",
        "import numpy as np\n",
        "import matplotlib.pyplot as plt\n",
        "import scipy.linalg as la\n",
        "%matplotlib inline\n",
        "def mat_desc (matrix):\n",
        "  if matrix.size > 0:\n",
        "    if matrix.shape [0] == matrix.shape[1]:\n",
        "      s = \"Square.\"\n",
        "    else:\n",
        "      s = \"Non-square.\"\n",
        "    if np.all(matrix == np.identity(matrix.shape[0])):\n",
        "      sp = \"Identity Matrix.\"\n",
        "    elif np.all(matrix == np.zeros(matrix.shape)):\n",
        "      sp = \"Zero Matrix.\"\n",
        "    elif np.all(matrix == np.ones(matrix.shape)):\n",
        "      sp = \"Ones Matrix.\"\n",
        "    else:\n",
        "      sp = \"None.\"\n",
        "    print(f'Matrix:\\n{matrix}\\n\\nShape:\\t{matrix.shape}\\nRank:\\{matrix.ndim}\\nSquare?: {s}\\nSpecial Characteristics: {sp}')\n",
        "  else:\n",
        "    print('Matrix is Empty')"
      ],
      "metadata": {
        "id": "so6GNwikXJDz"
      },
      "execution_count": 4,
      "outputs": []
    },
    {
      "cell_type": "code",
      "source": [
        "## Matrix declarations \n",
        "hi = np.array([ \n",
        "    [3,1,2,4], \n",
        "    [4,7,9,6], \n",
        "    [9,1,6,7]\n",
        "])\n",
        "one = np.array([\n",
        "    [1,1,1,1,1],\n",
        "    [1,1,1,1,1],\n",
        "    [1,1,1,1,1],\n",
        "    [1,1,1,1,1], \n",
        "]) \n",
        "id = np.array([\n",
        "    [1,0,0,0],\n",
        "    [0,1,0,0], \n",
        "    [0,0,1,0],\n",
        "    [0,0,0,1]\n",
        "])"
      ],
      "metadata": {
        "id": "Lkb5vApBXNcH"
      },
      "execution_count": 6,
      "outputs": []
    },
    {
      "cell_type": "code",
      "source": [
        "## Test Areas"
      ],
      "metadata": {
        "id": "wWTEwtgPnYgh"
      },
      "execution_count": 7,
      "outputs": []
    },
    {
      "cell_type": "code",
      "source": [
        "mat_desc(hi)"
      ],
      "metadata": {
        "id": "gzcDXqhDXNrJ",
        "colab": {
          "base_uri": "https://localhost:8080/"
        },
        "outputId": "82cae262-939d-4b8a-b189-df7757c43f0f"
      },
      "execution_count": 9,
      "outputs": [
        {
          "output_type": "stream",
          "name": "stdout",
          "text": [
            "Matrix:\n",
            "[[3 1 2 4]\n",
            " [4 7 9 6]\n",
            " [9 1 6 7]]\n",
            "\n",
            "Shape:\t(3, 4)\n",
            "Rank:\\2\n",
            "Square?: Non-square.\n",
            "Special Characteristics: None.\n"
          ]
        },
        {
          "output_type": "stream",
          "name": "stderr",
          "text": [
            "/usr/local/lib/python3.7/dist-packages/ipykernel_launcher.py:12: DeprecationWarning: elementwise comparison failed; this will raise an error in the future.\n",
            "  if sys.path[0] == '':\n"
          ]
        }
      ]
    },
    {
      "cell_type": "code",
      "source": [
        "mat_desc(one)"
      ],
      "metadata": {
        "colab": {
          "base_uri": "https://localhost:8080/"
        },
        "id": "ChR38CQmpBYt",
        "outputId": "25096266-6120-455e-e4b2-31e4d3dee920"
      },
      "execution_count": 10,
      "outputs": [
        {
          "output_type": "stream",
          "name": "stdout",
          "text": [
            "Matrix:\n",
            "[[1 1 1 1 1]\n",
            " [1 1 1 1 1]\n",
            " [1 1 1 1 1]\n",
            " [1 1 1 1 1]]\n",
            "\n",
            "Shape:\t(4, 5)\n",
            "Rank:\\2\n",
            "Square?: Non-square.\n",
            "Special Characteristics: Ones Matrix.\n"
          ]
        },
        {
          "output_type": "stream",
          "name": "stderr",
          "text": [
            "/usr/local/lib/python3.7/dist-packages/ipykernel_launcher.py:12: DeprecationWarning: elementwise comparison failed; this will raise an error in the future.\n",
            "  if sys.path[0] == '':\n"
          ]
        }
      ]
    },
    {
      "cell_type": "code",
      "source": [
        "mat_desc(id)"
      ],
      "metadata": {
        "colab": {
          "base_uri": "https://localhost:8080/"
        },
        "id": "yqM7Wui6pkUj",
        "outputId": "b43b3176-f9b1-4559-a6a8-b6f026df4ea6"
      },
      "execution_count": 11,
      "outputs": [
        {
          "output_type": "stream",
          "name": "stdout",
          "text": [
            "Matrix:\n",
            "[[1 0 0 0]\n",
            " [0 1 0 0]\n",
            " [0 0 1 0]\n",
            " [0 0 0 1]]\n",
            "\n",
            "Shape:\t(4, 4)\n",
            "Rank:\\2\n",
            "Square?: Square.\n",
            "Special Characteristics: Identity Matrix.\n"
          ]
        }
      ]
    },
    {
      "cell_type": "markdown",
      "source": [
        "## Task 2"
      ],
      "metadata": {
        "id": "hb_m_vlLXWqH"
      }
    },
    {
      "cell_type": "markdown",
      "source": [
        "Create a function named mat_operations() that takes in two matrices a input parameters it should"
      ],
      "metadata": {
        "id": "g6Rxd0zdXYjj"
      }
    },
    {
      "cell_type": "markdown",
      "source": [
        "  1. Determines if the matrices are viable for operation and returns your own error message if they are not viable.\n",
        "  2. Returns the sum of the matrices.\n",
        "  3. Returns the differen of the matrices.\n",
        "  4. Returns the element-wise multiplication of the matrices.\n",
        "  5. Returns the element-wise division of the matrices.\n",
        "\n",
        "\n",
        "Use 5 sample matrices in which their shapes are not lower than (3,3) . In your methodology, create a flowchart discuss the functions and methods you have done. Present your results in the results section showing the description of each matrix you have declared.\n",
        "\n"
      ],
      "metadata": {
        "id": "zSBESegcXcnE"
      }
    },
    {
      "cell_type": "code",
      "source": [
        "# Function Area\n",
        "import numpy as np\n",
        "import matplotlib.pyplot as plt\n",
        "import scipy.linalg as la \n",
        "%matplotlib inline\n",
        "def mat_operations(matA,matB):\n",
        "  op = input(\"Enter opration(+,-,*,/): \")\n",
        "  if matA.shape == matB.shape:\n",
        "    # proceed to operations\n",
        "    if op == '+':\n",
        "      return matA + matB\n",
        "    elif op == '-':\n",
        "      return matA - matB\n",
        "    elif op == '*':\n",
        "      return matA * matB\n",
        "    elif op == '/':\n",
        "      return matA/matB\n",
        "    else:\n",
        "      print(\"The matrices are viable but you have not inputted a correct operation.\")\n",
        "  else:\n",
        "      print(\"Huhuhu.The matrices are not viable.\")"
      ],
      "metadata": {
        "id": "OVvMqbcTXxSv"
      },
      "execution_count": 41,
      "outputs": []
    },
    {
      "cell_type": "code",
      "source": [
        "#Matrix declarations \n",
        "A = np.array([ \n",
        "    [1,1,1,1], \n",
        "    [1,1,1,1], \n",
        "    [1,1,1,1],\n",
        "    [1,1,1,1]\n",
        "])\n",
        "B = np.array([\n",
        "    [2, 2, 2, 2],\n",
        "    [2, 2, 2, 2],\n",
        "    [2, 2, 2, 2],\n",
        "    [2, 2, 2, 2], \n",
        "]) \n",
        "C = np.array([\n",
        "    [3, 3, 3, 3],\n",
        "    [3, 3, 3, 3], \n",
        "    [3, 3, 3, 3]\n",
        "])\n",
        "D = np.array([\n",
        "    [4, 4, 4, 4],\n",
        "    [4, 4, 4, 4],\n",
        "    [4, 4, 4, 4]\n",
        "])"
      ],
      "metadata": {
        "id": "Q3jw92_mXxdZ"
      },
      "execution_count": 39,
      "outputs": []
    },
    {
      "cell_type": "code",
      "source": [
        "mat_operations(A,C)"
      ],
      "metadata": {
        "id": "B4anLDPKXxoJ",
        "colab": {
          "base_uri": "https://localhost:8080/"
        },
        "outputId": "8e7cdf82-527b-41a1-dfcc-f619b25b10ce"
      },
      "execution_count": 42,
      "outputs": [
        {
          "output_type": "stream",
          "name": "stdout",
          "text": [
            "Enter opration(+,-,*,/): /\n",
            "Huhuhu.The matrices are not viable.\n"
          ]
        }
      ]
    },
    {
      "cell_type": "code",
      "source": [
        "mat_operations(D, C)"
      ],
      "metadata": {
        "colab": {
          "base_uri": "https://localhost:8080/"
        },
        "id": "T6sXI7z4w9v9",
        "outputId": "f021a5b5-3bef-46b1-c6e0-749069281ab8"
      },
      "execution_count": 43,
      "outputs": [
        {
          "name": "stdout",
          "output_type": "stream",
          "text": [
            "Enter opration(+,-,*,/): *\n"
          ]
        },
        {
          "output_type": "execute_result",
          "data": {
            "text/plain": [
              "array([[12, 12, 12, 12],\n",
              "       [12, 12, 12, 12],\n",
              "       [12, 12, 12, 12]])"
            ]
          },
          "metadata": {},
          "execution_count": 43
        }
      ]
    },
    {
      "cell_type": "code",
      "source": [
        "mat_operations(A,B)"
      ],
      "metadata": {
        "colab": {
          "base_uri": "https://localhost:8080/"
        },
        "id": "_EAW5bZy0rOP",
        "outputId": "5afc95dc-0d33-44a5-c007-508573285c4c"
      },
      "execution_count": 44,
      "outputs": [
        {
          "name": "stdout",
          "output_type": "stream",
          "text": [
            "Enter opration(+,-,*,/): -\n"
          ]
        },
        {
          "output_type": "execute_result",
          "data": {
            "text/plain": [
              "array([[-1, -1, -1, -1],\n",
              "       [-1, -1, -1, -1],\n",
              "       [-1, -1, -1, -1],\n",
              "       [-1, -1, -1, -1]])"
            ]
          },
          "metadata": {},
          "execution_count": 44
        }
      ]
    },
    {
      "cell_type": "markdown",
      "source": [
        "# Conclusion"
      ],
      "metadata": {
        "id": "WlSa4j5KXzUx"
      }
    },
    {
      "cell_type": "markdown",
      "source": [
        "For your conclusion synthesize the concept and application of the laboratory. Briefly discuss what you have learned and achieved in this activity. Also answer the question: \"How can matrix operations solve problems in technology?\"."
      ],
      "metadata": {
        "id": "k4UNZosFX6Jq"
      }
    }
  ]
}