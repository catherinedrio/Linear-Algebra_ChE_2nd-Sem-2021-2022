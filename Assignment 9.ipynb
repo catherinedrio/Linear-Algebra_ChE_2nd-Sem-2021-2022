{
  "nbformat": 4,
  "nbformat_minor": 0,
  "metadata": {
    "colab": {
      "name": "Untitled0.ipynb",
      "provenance": [],
      "include_colab_link": true
    },
    "kernelspec": {
      "name": "python3",
      "display_name": "Python 3"
    },
    "language_info": {
      "name": "python"
    }
  },
  "cells": [
    {
      "cell_type": "markdown",
      "metadata": {
        "id": "view-in-github",
        "colab_type": "text"
      },
      "source": [
        "<a href=\"https://colab.research.google.com/github/catherinedrio/Linear-Algebra_ChE_2nd-Sem-2021-2022/blob/main/Assignment%209.ipynb\" target=\"_parent\"><img src=\"https://colab.research.google.com/assets/colab-badge.svg\" alt=\"Open In Colab\"/></a>"
      ]
    },
    {
      "cell_type": "markdown",
      "source": [
        "# Lab 2 - Plotting Vector using NumPy and MatPlotLib"
      ],
      "metadata": {
        "id": "kUOrxUcLasf3"
      }
    },
    {
      "cell_type": "markdown",
      "source": [
        "In this laboratory we will be discussing the basics of numerical and scientific programming by working with Vectors using NumPy and MatPlotLib."
      ],
      "metadata": {
        "id": "BFwMUdfbauVX"
      }
    },
    {
      "cell_type": "markdown",
      "source": [
        "### Objectives\n",
        "At the end of this activity you will be able to:\n",
        "1. Be familiar with the libraries in Python for numerical and scientific programming.\n",
        "2. Visualize vectors through Python programming.\n",
        "3. Perform simple vector operations through code."
      ],
      "metadata": {
        "id": "Xo1-w0HJaxSf"
      }
    },
    {
      "cell_type": "markdown",
      "source": [
        "## Discussion"
      ],
      "metadata": {
        "id": "jQeuLnwGa0fb"
      }
    },
    {
      "cell_type": "markdown",
      "source": [
        "### NumPy"
      ],
      "metadata": {
        "id": "37cuZXC7a3Hu"
      }
    },
    {
      "cell_type": "markdown",
      "source": [
        "NumPy or Numerical Python, is mainly used for matrix and vector operations. It is capable of declaring computing and representing matrices. Most Python scientific programming libraries uses NumPy as the basic code."
      ],
      "metadata": {
        "id": "R4M006dya6J4"
      }
    },
    {
      "cell_type": "markdown",
      "source": [
        "Scalars \\\\\n",
        "Represent magnitude or a single value\n",
        "\n",
        "Vectors \\\\\n",
        "Represent magnitude with directors"
      ],
      "metadata": {
        "id": "eCgaeRjNa8h6"
      }
    },
    {
      "cell_type": "markdown",
      "source": [
        "#### Representing Vectors"
      ],
      "metadata": {
        "id": "rO6y-u0Ja-9z"
      }
    },
    {
      "cell_type": "markdown",
      "source": [
        "Now that you know how to represent vectors using their component and matrix form we can now hard-code them in Python. Let's say that you have the vectors:"
      ],
      "metadata": {
        "id": "zXUKLBhWbB6X"
      }
    },
    {
      "cell_type": "markdown",
      "source": [
        "$$ A = 4\\hat{x} + 3\\hat{y} \\\\\n",
        "B = 2\\hat{x} - 5\\hat{y}\\\\\n",
        "C = 4ax + 3ay - 2az \\\\\n",
        "D = 2\\hat{i} - 2\\hat{j} + 3\\hat{k}$$"
      ],
      "metadata": {
        "id": "tKo_YcLBbESC"
      }
    },
    {
      "cell_type": "markdown",
      "source": [
        "$$ A = \\begin{bmatrix} 4 \\\\ 3\\end{bmatrix} , B = \\begin{bmatrix} 2 \\\\ -5\\end{bmatrix} , C = \\begin{bmatrix} 4 \\\\ 3 \\\\  -2 \\end{bmatrix}, D = \\begin{bmatrix} 2 \\\\ -2 \\\\ 3\\end{bmatrix}\n",
        "$$\n",
        "$$ A = \\begin{bmatrix} 4 & 3\\end{bmatrix} , B = \\begin{bmatrix} 2 & -5\\end{bmatrix} , C = \\begin{bmatrix} 4 & 3 & -2\\end{bmatrix} , D = \\begin{bmatrix} 2 & -2 & 3\\end{bmatrix} \n",
        "$$"
      ],
      "metadata": {
        "id": "ASOWJb3RbGvh"
      }
    },
    {
      "cell_type": "code",
      "source": [
        "## Importing necessary libraries\n",
        "import numpy as np ## 'np' here is short-hand name of the library (numpy) or a nickname."
      ],
      "metadata": {
        "id": "4sNEo_vabL1f"
      },
      "execution_count": null,
      "outputs": []
    },
    {
      "cell_type": "code",
      "source": [
        "A = np.array([4, 3])\n",
        "B = np.array([2, -5])\n",
        "C = np.array([\n",
        "              [4],\n",
        "              [3],\n",
        "              [-2]\n",
        "])\n",
        "D = np.array ([[2],\n",
        "              [-2],\n",
        "              [3]])\n",
        "print('Vector A is ', A)\n",
        "print('Vector B is ', B)\n",
        "print('Vector C is ', C)\n",
        "print('Vector D is ', D)"
      ],
      "metadata": {
        "colab": {
          "base_uri": "https://localhost:8080/"
        },
        "id": "GpaCDHFGbOPu",
        "outputId": "7d678a9d-73a3-4718-eef7-c8cce02095a9"
      },
      "execution_count": null,
      "outputs": [
        {
          "output_type": "stream",
          "name": "stdout",
          "text": [
            "Vector A is  [4 3]\n",
            "Vector B is  [ 2 -5]\n",
            "Vector C is  [[ 4]\n",
            " [ 3]\n",
            " [-2]]\n",
            "Vector D is  [[ 2]\n",
            " [-2]\n",
            " [ 3]]\n"
          ]
        }
      ]
    },
    {
      "cell_type": "markdown",
      "source": [
        "#### Describing vectors in NumPy"
      ],
      "metadata": {
        "id": "863Cc6qhbUOH"
      }
    },
    {
      "cell_type": "markdown",
      "source": [
        "Describing vectors is very important if we want to perform basic to advanced operations with them. The fundamental ways in describing vectors are knowing their shape, size and dimensions."
      ],
      "metadata": {
        "id": "P_1GrJZgbUy0"
      }
    },
    {
      "cell_type": "code",
      "source": [
        "### Checking shapes\n",
        "### Shapes tells us how many elements are there on each row and column\n",
        "\n",
        "A.shape\n",
        "H = np.array([1, 0, 2, 5, -0.2, 0])\n",
        "H.shape\n",
        "C.shape"
      ],
      "metadata": {
        "colab": {
          "base_uri": "https://localhost:8080/"
        },
        "id": "cijr8757bXLJ",
        "outputId": "baa193fe-e53a-496e-e130-b9f27562f21c"
      },
      "execution_count": null,
      "outputs": [
        {
          "output_type": "execute_result",
          "data": {
            "text/plain": [
              "(3, 1)"
            ]
          },
          "metadata": {},
          "execution_count": 3
        }
      ]
    },
    {
      "cell_type": "code",
      "source": [
        "### Checking size\n",
        "### Array/Vector sizes tells us many total number of elements are there in the vector\n",
        "\n",
        "D.size"
      ],
      "metadata": {
        "colab": {
          "base_uri": "https://localhost:8080/"
        },
        "id": "w3BVukicbZfh",
        "outputId": "cdf0a7c6-fa4d-474c-b0b3-0a3cd685db79"
      },
      "execution_count": null,
      "outputs": [
        {
          "output_type": "execute_result",
          "data": {
            "text/plain": [
              "3"
            ]
          },
          "metadata": {},
          "execution_count": 4
        }
      ]
    },
    {
      "cell_type": "code",
      "source": [
        "### Checking dimensions\n",
        "### The dimensions or rank of a vector tells us how many dimensions are there for the vector.\n",
        "\n",
        "D.ndim"
      ],
      "metadata": {
        "colab": {
          "base_uri": "https://localhost:8080/"
        },
        "id": "Az-vVeSdbbbJ",
        "outputId": "7bec0285-ac98-49d5-b64b-937df69b6ef4"
      },
      "execution_count": null,
      "outputs": [
        {
          "output_type": "execute_result",
          "data": {
            "text/plain": [
              "2"
            ]
          },
          "metadata": {},
          "execution_count": 5
        }
      ]
    },
    {
      "cell_type": "markdown",
      "source": [
        "#### Addition"
      ],
      "metadata": {
        "id": "RCBLQECcbiNl"
      }
    },
    {
      "cell_type": "markdown",
      "source": [
        "The addition rule is simple, the we just need to add the elements of the matrices according to their index. So in this case if we add vector $A$ and vector $B$ we will have a resulting vector:"
      ],
      "metadata": {
        "id": "se_ts5q2biuL"
      }
    },
    {
      "cell_type": "markdown",
      "source": [
        "$$R = 6\\hat{x}-2\\hat{y} \\\\ \\\\or \\\\ \\\\ R = \\begin{bmatrix} 6 \\\\ -2\\end{bmatrix} $$"
      ],
      "metadata": {
        "id": "9wooHTdvblRg"
      }
    },
    {
      "cell_type": "code",
      "source": [
        "R = np.add(A, B) ## this is the functional method usisng the numpy library\n",
        "P = np.add(C, D)"
      ],
      "metadata": {
        "id": "nuJ9gQOYbnsB"
      },
      "execution_count": null,
      "outputs": []
    },
    {
      "cell_type": "code",
      "source": [
        "R = A + B   ## this is the explicit method, since Python does a value-reference so it can \n",
        "            ## know that these variables would need to do array operations.\n",
        "R"
      ],
      "metadata": {
        "colab": {
          "base_uri": "https://localhost:8080/"
        },
        "id": "wT5piN-KbprD",
        "outputId": "3dc72bde-0e40-4b36-fee5-fcaca05d207a"
      },
      "execution_count": null,
      "outputs": [
        {
          "output_type": "execute_result",
          "data": {
            "text/plain": [
              "array([ 6, -2])"
            ]
          },
          "metadata": {},
          "execution_count": 7
        }
      ]
    },
    {
      "cell_type": "code",
      "source": [
        "pos1 = np.array([0,0,0])\n",
        "pos2 = np.array([0,1,3])\n",
        "pos3 = np.array([1,5,-2])\n",
        "pos4 = np.array([5,-3,3])\n",
        "#R = pos1 + pos2 + pos3 + pos4\n",
        "#R = np.multiply(pos3, pos4)\n",
        "R = pos3 / pos4\n",
        "R"
      ],
      "metadata": {
        "colab": {
          "base_uri": "https://localhost:8080/"
        },
        "id": "gOdzdjFXbrpI",
        "outputId": "173b44e0-be98-4ef4-cf3e-ca667656822f"
      },
      "execution_count": null,
      "outputs": [
        {
          "output_type": "execute_result",
          "data": {
            "text/plain": [
              "array([ 0.2       , -1.66666667, -0.66666667])"
            ]
          },
          "metadata": {},
          "execution_count": 8
        }
      ]
    },
    {
      "cell_type": "markdown",
      "source": [
        "##### Try for yourself!"
      ],
      "metadata": {
        "id": "yW9oKFiJbxEm"
      }
    },
    {
      "cell_type": "code",
      "source": [
        "import numpy as np"
      ],
      "metadata": {
        "id": "fvFJs7-ReDQl"
      },
      "execution_count": null,
      "outputs": []
    },
    {
      "cell_type": "code",
      "source": [
        "A = np.array([2, 4])\n",
        "B = np.array([-4, 10])\n",
        "C = np.array([\n",
        "              [3],\n",
        "              [6],\n",
        "              [9]\n",
        "])\n",
        "D = np.array ([[0],\n",
        "              [2],\n",
        "              [-6]])\n",
        "print('Vector A is ', A)\n",
        "print('Vector B is ', B)\n",
        "print('Vector C is ', C)\n",
        "print('Vector D is ', D)"
      ],
      "metadata": {
        "id": "KMSDXCPOeEZ4",
        "outputId": "a399985d-d6f3-47a0-b921-7a09ae513e5f",
        "colab": {
          "base_uri": "https://localhost:8080/"
        }
      },
      "execution_count": null,
      "outputs": [
        {
          "output_type": "stream",
          "name": "stdout",
          "text": [
            "Vector A is  [2 4]\n",
            "Vector B is  [-4 10]\n",
            "Vector C is  [[3]\n",
            " [6]\n",
            " [9]]\n",
            "Vector D is  [[ 0]\n",
            " [ 2]\n",
            " [-6]]\n"
          ]
        }
      ]
    },
    {
      "cell_type": "code",
      "source": [
        "Z = np.add(A, B) \n",
        "B = np.add(C, D)\n"
      ],
      "metadata": {
        "id": "zh-qbWRab0G8"
      },
      "execution_count": null,
      "outputs": []
    },
    {
      "cell_type": "code",
      "source": [
        "Z = A + B\n",
        "Z"
      ],
      "metadata": {
        "id": "Alf6mZtLbJbt",
        "outputId": "25e90336-6146-47be-d4b4-fea51a603a67",
        "colab": {
          "base_uri": "https://localhost:8080/"
        }
      },
      "execution_count": null,
      "outputs": [
        {
          "output_type": "execute_result",
          "data": {
            "text/plain": [
              "array([[ 5,  7],\n",
              "       [10, 12],\n",
              "       [ 5,  7]])"
            ]
          },
          "metadata": {},
          "execution_count": 12
        }
      ]
    },
    {
      "cell_type": "code",
      "source": [
        "Z = B - A\n",
        "Z"
      ],
      "metadata": {
        "id": "L1r2sPM-eedf",
        "outputId": "f2babf75-d509-4f3c-87c0-97bed0d84c4d",
        "colab": {
          "base_uri": "https://localhost:8080/"
        }
      },
      "execution_count": null,
      "outputs": [
        {
          "output_type": "execute_result",
          "data": {
            "text/plain": [
              "array([[ 1, -1],\n",
              "       [ 6,  4],\n",
              "       [ 1, -1]])"
            ]
          },
          "metadata": {},
          "execution_count": 13
        }
      ]
    },
    {
      "cell_type": "code",
      "source": [
        "#R = pos1 + pos2 + pos3 + pos4\n",
        "#R = np.multiply(pos3, pos4)\n",
        "posA = np.array([1,2,3])\n",
        "posB = np.array([2,4,6])\n",
        "posC = np.array([-3,6,-9])\n",
        "posD = np.array([0,0,-1])\n",
        "Z = np.multiply(posB,posA)\n",
        "Z"
      ],
      "metadata": {
        "id": "TXtRU-Etemlb",
        "outputId": "dcd1908c-bf1b-4234-cceb-172ef664acff",
        "colab": {
          "base_uri": "https://localhost:8080/"
        }
      },
      "execution_count": null,
      "outputs": [
        {
          "output_type": "execute_result",
          "data": {
            "text/plain": [
              "array([ 2,  8, 18])"
            ]
          },
          "metadata": {},
          "execution_count": 14
        }
      ]
    },
    {
      "cell_type": "code",
      "source": [
        "posA = np.array([1,2,3])\n",
        "posB = np.array([2,4,6])\n",
        "posC = np.array([-3,6,-9])\n",
        "posD = np.array([0,0,-1])\n",
        "B = posA / posB\n",
        "B"
      ],
      "metadata": {
        "id": "DivzP4czbNLr",
        "outputId": "095b8368-d0e4-47ae-95a1-0674ffde9f98",
        "colab": {
          "base_uri": "https://localhost:8080/"
        }
      },
      "execution_count": null,
      "outputs": [
        {
          "output_type": "execute_result",
          "data": {
            "text/plain": [
              "array([0.5, 0.5, 0.5])"
            ]
          },
          "metadata": {},
          "execution_count": 15
        }
      ]
    },
    {
      "cell_type": "markdown",
      "source": [
        "### Scaling"
      ],
      "metadata": {
        "id": "4x5P2xsKbxyS"
      }
    },
    {
      "cell_type": "markdown",
      "source": [
        "Scaling or scalar multiplication takes a scalar value and performs multiplication with a vector. Let's take the example below:"
      ],
      "metadata": {
        "id": "vcTzmh2vb020"
      }
    },
    {
      "cell_type": "markdown",
      "source": [
        "$$S = 5 \\cdot A$$"
      ],
      "metadata": {
        "id": "3XIVL5yQb3Fw"
      }
    },
    {
      "cell_type": "code",
      "source": [
        "#S = 5 * A\n",
        "S = np.multiply(5,A)\n",
        "S"
      ],
      "metadata": {
        "colab": {
          "base_uri": "https://localhost:8080/"
        },
        "id": "9w9Q0fcHb6Ke",
        "outputId": "f6b4bbfa-ea32-4bc2-add0-ae8c572619f4"
      },
      "execution_count": null,
      "outputs": [
        {
          "output_type": "execute_result",
          "data": {
            "text/plain": [
              "array([10, 20])"
            ]
          },
          "metadata": {},
          "execution_count": 16
        }
      ]
    },
    {
      "cell_type": "markdown",
      "source": [
        "Try to implement scaling with two vectors."
      ],
      "metadata": {
        "id": "obiHDF-Yb87G"
      }
    },
    {
      "cell_type": "code",
      "source": [
        "\n",
        "D = np.multiply(6,A)\n",
        "D"
      ],
      "metadata": {
        "id": "LyK_WFfNcABJ",
        "outputId": "3ff0e27f-59ef-4b05-b36a-c8a5ce2b6789",
        "colab": {
          "base_uri": "https://localhost:8080/"
        }
      },
      "execution_count": null,
      "outputs": [
        {
          "output_type": "execute_result",
          "data": {
            "text/plain": [
              "array([12, 24])"
            ]
          },
          "metadata": {},
          "execution_count": 17
        }
      ]
    },
    {
      "cell_type": "markdown",
      "source": [
        "### MatPlotLib"
      ],
      "metadata": {
        "id": "LSoJYmYMcAZB"
      }
    },
    {
      "cell_type": "markdown",
      "source": [
        "MatPlotLib or MATLab Plotting library is Python's take on MATLabs plotting feature. MatPlotLib can be used vastly from graping values to visualizing several dimensions of data."
      ],
      "metadata": {
        "id": "GRCfUY4QcG_N"
      }
    },
    {
      "cell_type": "markdown",
      "source": [
        "#### Visualizing Data"
      ],
      "metadata": {
        "id": "kB2YFGKAcJQk"
      }
    },
    {
      "cell_type": "markdown",
      "source": [
        "It's not enough just solving these vectors so might need to visualize them. So we'll use MatPlotLib for that. We'll need to import it first."
      ],
      "metadata": {
        "id": "7bWOowIXcL96"
      }
    },
    {
      "cell_type": "code",
      "source": [
        "import matplotlib.pyplot as plt\n",
        "import matplotlib\n",
        "%matplotlib inline"
      ],
      "metadata": {
        "id": "7-dwIMlxcOeI"
      },
      "execution_count": null,
      "outputs": []
    },
    {
      "cell_type": "code",
      "source": [
        "Z = [-2, 4]\n",
        "D = [6, -3]\n",
        "plt.scatter(Z[0], Z[1], label='Z', c='blue')\n",
        "plt.scatter(D[0], D[1], label='D', c='pink')\n",
        "plt.grid()\n",
        "plt.legend()\n",
        "plt.show()"
      ],
      "metadata": {
        "colab": {
          "base_uri": "https://localhost:8080/",
          "height": 265
        },
        "id": "R_ToHl3vcQ5m",
        "outputId": "a528cb45-5b2d-428b-bcd0-2c4bb2c520c5"
      },
      "execution_count": null,
      "outputs": [
        {
          "output_type": "display_data",
          "data": {
            "text/plain": [
              "<Figure size 432x288 with 1 Axes>"
            ],
            "image/png": "[encoded data removed]"
          },
          "metadata": {
            "needs_background": "light"
          }
        }
      ]
    },
    {
      "cell_type": "code",
      "source": [
        "A = np.array([1, -1])\n",
        "B = np.array([1, 5])\n",
        "Magnitude = np.sqrt(np.sum(R**2))\n",
        "print(Magnitude)\n",
        "plt.title(\"Resultant Vector\\nMagnitude:{}\" .format(Magnitude))\n",
        "plt.xlim(-9, 9)\n",
        "plt.ylim(-9, 9)\n",
        "plt.quiver(0, 0, A[0], A[1], angles='xy', scale_units='xy', scale=1, color='pink')\n",
        "plt.quiver(A[0], A[1], B[0], B[1], angles='xy', scale_units='xy', scale=1, color='blue')\n",
        "R = A + B\n",
        "plt.quiver(0, 0, R[0], R[1], angles='xy', scale_units='xy', scale=1, color='maroon')\n",
        "plt.grid()\n",
        "plt.show()\n",
        "print(R)\n",
        "\n",
        "Slope = R[1]/R[0]\n",
        "print(Slope)\n",
        "Angle = (np.arctan(Slope))*(180/np.pi)\n",
        "print(Angle)"
      ],
      "metadata": {
        "colab": {
          "base_uri": "https://localhost:8080/",
          "height": 367
        },
        "id": "M53o4A-jcWGM",
        "outputId": "c1813d07-3bbb-46f5-e362-e3450657e701"
      },
      "execution_count": null,
      "outputs": [
        {
          "output_type": "stream",
          "name": "stdout",
          "text": [
            "4.47213595499958\n"
          ]
        },
        {
          "output_type": "display_data",
          "data": {
            "text/plain": [
              "<Figure size 432x288 with 1 Axes>"
            ],
            "image/png": "[encoded data removed]"
          },
          "metadata": {
            "needs_background": "light"
          }
        },
        {
          "output_type": "stream",
          "name": "stdout",
          "text": [
            "[2 4]\n",
            "2.0\n",
            "63.43494882292201\n"
          ]
        }
      ]
    },
    {
      "cell_type": "code",
      "source": [
        "n = A.shape[0]\n",
        "plt.xlim(-10, 10)\n",
        "plt.ylim(-10, 10)\n",
        "plt.quiver(0,0, A[0], A[1], angles='xy', scale_units='xy',scale=1)\n",
        "plt.quiver(A[0],A[1], B[0], B[1], angles='xy', scale_units='xy',scale=1)\n",
        "plt.quiver(0,0, R[0], R[1], angles='xy', scale_units='xy',scale=1)\n",
        "plt.show()"
      ],
      "metadata": {
        "colab": {
          "base_uri": "https://localhost:8080/",
          "height": 269
        },
        "id": "rsWxN1z3fmQk",
        "outputId": "6cb36473-4122-4708-d8b1-2ef2553b58fc"
      },
      "execution_count": null,
      "outputs": [
        {
          "output_type": "display_data",
          "data": {
            "text/plain": [
              "<Figure size 432x288 with 1 Axes>"
            ],
            "image/png": "[encoded data removed]"
          },
          "metadata": {
            "needs_background": "light"
          }
        }
      ]
    },
    {
      "cell_type": "markdown",
      "source": [
        "Try plotting 3 vectors and show the resultant vectors as a result. Use head to tail method."
      ],
      "metadata": {
        "id": "A83rs1kmZzkJ"
      }
    },
    {
      "cell_type": "code",
      "source": [
        "import matplotlib.pyplot as plt\n",
        "import matplotlib\n",
        "%matplotlib inline"
      ],
      "metadata": {
        "id": "ZPU9HlgEZxpw"
      },
      "execution_count": null,
      "outputs": []
    },
    {
      "cell_type": "code",
      "source": [
        "A = np.array([3, 6])\n",
        "B = np.array([2, -4])\n",
        "C = np.array([1, 5])\n",
        "Magnitude = np.sqrt(np.sum(R**2))\n",
        "print(Magnitude)\n",
        "plt.title(\"Resultant Vector\\nMagnitude:{}\" .format(Magnitude))\n",
        "plt.xlim(-10, 10)\n",
        "plt.ylim(-10, 10)\n",
        "plt.quiver(0,0, A[0], A[1], angles='xy', scale_units='xy',scale=1, color='purple')\n",
        "plt.quiver(A[0],A[1], B[0], B[1], angles='xy', scale_units='xy',scale=1, color='pink')\n",
        "R = A + B\n",
        "plt.quiver(0,0, R[0], R[1], angles='xy', scale_units='xy',scale=1, color='magenta')\n",
        "plt.show()\n",
        "plt.show()\n",
        "print(R)\n",
        "\n",
        "Slope = R[1]/R[0]\n",
        "print(Slope)\n",
        "Angle = (np.arctan(Slope))*(180/np.pi)\n",
        "print(Angle)"
      ],
      "metadata": {
        "id": "AX3ZDxdRaWxb",
        "outputId": "962840df-cfcf-4e32-c5f2-0389a22c2c6e",
        "colab": {
          "base_uri": "https://localhost:8080/",
          "height": 367
        }
      },
      "execution_count": null,
      "outputs": [
        {
          "output_type": "stream",
          "name": "stdout",
          "text": [
            "5.385164807134504\n"
          ]
        },
        {
          "output_type": "display_data",
          "data": {
            "text/plain": [
              "<Figure size 432x288 with 1 Axes>"
            ],
            "image/png": "[encoded data removed]"
          },
          "metadata": {
            "needs_background": "light"
          }
        },
        {
          "output_type": "stream",
          "name": "stdout",
          "text": [
            "[5 2]\n",
            "0.4\n",
            "21.80140948635181\n"
          ]
        }
      ]
    }
  ]
}